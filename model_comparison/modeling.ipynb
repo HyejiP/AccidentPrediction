{
 "cells": [
  {
   "cell_type": "code",
   "execution_count": 56,
   "id": "feb00693-3c55-4ba7-9e39-5536a4685045",
   "metadata": {},
   "outputs": [],
   "source": [
    "import warnings\n",
    "warnings.filterwarnings('ignore')\n",
    "import pandas as pd\n",
    "import numpy as np\n",
    "import seaborn as sns\n",
    "import matplotlib.pyplot as plt\n",
    "%matplotlib inline\n",
    "import datetime as dt\n",
    "from sklearn.model_selection import train_test_split, GridSearchCV\n",
    "from sklearn.linear_model import LogisticRegression\n",
    "import statsmodels.api as sm\n",
    "from sklearn.ensemble import RandomForestClassifier\n",
    "from xgboost import XGBClassifier\n",
    "from sklearn.metrics import accuracy_score, precision_score, recall_score, confusion_matrix, f1_score, roc_auc_score"
   ]
  },
  {
   "cell_type": "code",
   "execution_count": 32,
   "id": "7f4d5034-df1f-4830-a36f-81f11d192a9f",
   "metadata": {},
   "outputs": [],
   "source": [
    "data = pd.read_csv('la_final_data.csv')"
   ]
  },
  {
   "cell_type": "code",
   "execution_count": 33,
   "id": "99337d60-9a29-4286-bca5-df22d5434b48",
   "metadata": {},
   "outputs": [
    {
     "data": {
      "text/html": [
       "<div>\n",
       "<style scoped>\n",
       "    .dataframe tbody tr th:only-of-type {\n",
       "        vertical-align: middle;\n",
       "    }\n",
       "\n",
       "    .dataframe tbody tr th {\n",
       "        vertical-align: top;\n",
       "    }\n",
       "\n",
       "    .dataframe thead th {\n",
       "        text-align: right;\n",
       "    }\n",
       "</style>\n",
       "<table border=\"1\" class=\"dataframe\">\n",
       "  <thead>\n",
       "    <tr style=\"text-align: right;\">\n",
       "      <th></th>\n",
       "      <th>Start_Time</th>\n",
       "      <th>Start_Lat</th>\n",
       "      <th>Start_Lng</th>\n",
       "      <th>Temperature(F)</th>\n",
       "      <th>Humidity(%)</th>\n",
       "      <th>Pressure(in)</th>\n",
       "      <th>Wind_Speed(mph)</th>\n",
       "      <th>Precipitation(in)</th>\n",
       "      <th>Amenity</th>\n",
       "      <th>Bump</th>\n",
       "      <th>...</th>\n",
       "      <th>Junction</th>\n",
       "      <th>No_Exit</th>\n",
       "      <th>Railway</th>\n",
       "      <th>Roundabout</th>\n",
       "      <th>Station</th>\n",
       "      <th>Stop</th>\n",
       "      <th>Traffic_Calming</th>\n",
       "      <th>Traffic_Signal</th>\n",
       "      <th>Turning_Loop</th>\n",
       "      <th>Target</th>\n",
       "    </tr>\n",
       "  </thead>\n",
       "  <tbody>\n",
       "    <tr>\n",
       "      <th>0</th>\n",
       "      <td>2016-03-22 19:36:44</td>\n",
       "      <td>34.09256</td>\n",
       "      <td>-118.20622</td>\n",
       "      <td>64.0</td>\n",
       "      <td>24.0</td>\n",
       "      <td>30.00</td>\n",
       "      <td>9.2</td>\n",
       "      <td>NaN</td>\n",
       "      <td>False</td>\n",
       "      <td>False</td>\n",
       "      <td>...</td>\n",
       "      <td>False</td>\n",
       "      <td>False</td>\n",
       "      <td>False</td>\n",
       "      <td>False</td>\n",
       "      <td>False</td>\n",
       "      <td>True</td>\n",
       "      <td>False</td>\n",
       "      <td>False</td>\n",
       "      <td>False</td>\n",
       "      <td>1</td>\n",
       "    </tr>\n",
       "    <tr>\n",
       "      <th>1</th>\n",
       "      <td>2016-03-22 20:59:43</td>\n",
       "      <td>33.94819</td>\n",
       "      <td>-118.27973</td>\n",
       "      <td>64.0</td>\n",
       "      <td>23.0</td>\n",
       "      <td>30.02</td>\n",
       "      <td>11.5</td>\n",
       "      <td>NaN</td>\n",
       "      <td>False</td>\n",
       "      <td>False</td>\n",
       "      <td>...</td>\n",
       "      <td>False</td>\n",
       "      <td>False</td>\n",
       "      <td>False</td>\n",
       "      <td>False</td>\n",
       "      <td>False</td>\n",
       "      <td>False</td>\n",
       "      <td>False</td>\n",
       "      <td>False</td>\n",
       "      <td>False</td>\n",
       "      <td>1</td>\n",
       "    </tr>\n",
       "    <tr>\n",
       "      <th>2</th>\n",
       "      <td>2016-03-23 07:59:47</td>\n",
       "      <td>34.02330</td>\n",
       "      <td>-118.17288</td>\n",
       "      <td>55.9</td>\n",
       "      <td>53.0</td>\n",
       "      <td>30.11</td>\n",
       "      <td>NaN</td>\n",
       "      <td>NaN</td>\n",
       "      <td>False</td>\n",
       "      <td>False</td>\n",
       "      <td>...</td>\n",
       "      <td>True</td>\n",
       "      <td>False</td>\n",
       "      <td>False</td>\n",
       "      <td>False</td>\n",
       "      <td>False</td>\n",
       "      <td>False</td>\n",
       "      <td>False</td>\n",
       "      <td>False</td>\n",
       "      <td>False</td>\n",
       "      <td>1</td>\n",
       "    </tr>\n",
       "  </tbody>\n",
       "</table>\n",
       "<p>3 rows × 22 columns</p>\n",
       "</div>"
      ],
      "text/plain": [
       "            Start_Time  Start_Lat  Start_Lng  Temperature(F)  Humidity(%)  \\\n",
       "0  2016-03-22 19:36:44   34.09256 -118.20622            64.0         24.0   \n",
       "1  2016-03-22 20:59:43   33.94819 -118.27973            64.0         23.0   \n",
       "2  2016-03-23 07:59:47   34.02330 -118.17288            55.9         53.0   \n",
       "\n",
       "   Pressure(in)  Wind_Speed(mph)  Precipitation(in)  Amenity   Bump  ...  \\\n",
       "0         30.00              9.2                NaN    False  False  ...   \n",
       "1         30.02             11.5                NaN    False  False  ...   \n",
       "2         30.11              NaN                NaN    False  False  ...   \n",
       "\n",
       "   Junction  No_Exit  Railway  Roundabout  Station   Stop  Traffic_Calming  \\\n",
       "0     False    False    False       False    False   True            False   \n",
       "1     False    False    False       False    False  False            False   \n",
       "2      True    False    False       False    False  False            False   \n",
       "\n",
       "   Traffic_Signal  Turning_Loop  Target  \n",
       "0           False         False       1  \n",
       "1           False         False       1  \n",
       "2           False         False       1  \n",
       "\n",
       "[3 rows x 22 columns]"
      ]
     },
     "metadata": {},
     "output_type": "display_data"
    },
    {
     "name": "stdout",
     "output_type": "stream",
     "text": [
      "Shape of original data: \n",
      " (275824, 22)\n",
      "\n",
      "\n",
      "<class 'pandas.core.frame.DataFrame'>\n",
      "RangeIndex: 275824 entries, 0 to 275823\n",
      "Data columns (total 22 columns):\n",
      " #   Column             Non-Null Count   Dtype  \n",
      "---  ------             --------------   -----  \n",
      " 0   Start_Time         275824 non-null  object \n",
      " 1   Start_Lat          275824 non-null  float64\n",
      " 2   Start_Lng          275824 non-null  float64\n",
      " 3   Temperature(F)     275280 non-null  float64\n",
      " 4   Humidity(%)        275270 non-null  float64\n",
      " 5   Pressure(in)       275281 non-null  float64\n",
      " 6   Wind_Speed(mph)    270198 non-null  float64\n",
      " 7   Precipitation(in)  264554 non-null  float64\n",
      " 8   Amenity            275824 non-null  bool   \n",
      " 9   Bump               275824 non-null  bool   \n",
      " 10  Crossing           275824 non-null  bool   \n",
      " 11  Give_Way           275824 non-null  bool   \n",
      " 12  Junction           275824 non-null  bool   \n",
      " 13  No_Exit            275824 non-null  bool   \n",
      " 14  Railway            275824 non-null  bool   \n",
      " 15  Roundabout         275824 non-null  bool   \n",
      " 16  Station            275824 non-null  bool   \n",
      " 17  Stop               275824 non-null  bool   \n",
      " 18  Traffic_Calming    275824 non-null  bool   \n",
      " 19  Traffic_Signal     275824 non-null  bool   \n",
      " 20  Turning_Loop       275824 non-null  bool   \n",
      " 21  Target             275824 non-null  int64  \n",
      "dtypes: bool(13), float64(7), int64(1), object(1)\n",
      "memory usage: 22.4+ MB\n",
      "\n",
      "\n",
      "Number of columns of each data type: \n",
      " bool       13\n",
      "float64     7\n",
      "int64       1\n",
      "object      1\n",
      "dtype: int64\n",
      "\n",
      "\n",
      "Columns with null values: \n",
      " Precipitation(in)    11270\n",
      "Wind_Speed(mph)       5626\n",
      "Humidity(%)            554\n",
      "Temperature(F)         544\n",
      "Pressure(in)           543\n",
      "dtype: int64\n"
     ]
    }
   ],
   "source": [
    "display(data.head(3))\n",
    "print('Shape of original data: \\n', data.shape)\n",
    "print('\\n')\n",
    "\n",
    "data.info()\n",
    "print('\\n')\n",
    "\n",
    "print('Number of columns of each data type: \\n', data.dtypes.value_counts())\n",
    "print('\\n')\n",
    "\n",
    "isnull_series = data.isnull().sum()[data.isnull().sum() > 0]\n",
    "print('Columns with null values: \\n', isnull_series.sort_values(ascending=False))"
   ]
  },
  {
   "cell_type": "code",
   "execution_count": 34,
   "id": "064f939e-3b42-4681-842a-55ed2de83dcc",
   "metadata": {},
   "outputs": [
    {
     "name": "stdout",
     "output_type": "stream",
     "text": [
      "(263131, 22)\n",
      "(263131, 22)\n",
      "<class 'pandas.core.frame.DataFrame'>\n",
      "Int64Index: 263131 entries, 67 to 275823\n",
      "Data columns (total 24 columns):\n",
      " #   Column             Non-Null Count   Dtype  \n",
      "---  ------             --------------   -----  \n",
      " 0   Start_Lat          263131 non-null  float64\n",
      " 1   Start_Lng          263131 non-null  float64\n",
      " 2   Temperature(F)     263131 non-null  float64\n",
      " 3   Humidity(%)        263131 non-null  float64\n",
      " 4   Pressure(in)       263131 non-null  float64\n",
      " 5   Wind_Speed(mph)    263131 non-null  float64\n",
      " 6   Precipitation(in)  263131 non-null  float64\n",
      " 7   Amenity            263131 non-null  bool   \n",
      " 8   Bump               263131 non-null  bool   \n",
      " 9   Crossing           263131 non-null  bool   \n",
      " 10  Give_Way           263131 non-null  bool   \n",
      " 11  Junction           263131 non-null  bool   \n",
      " 12  No_Exit            263131 non-null  bool   \n",
      " 13  Railway            263131 non-null  bool   \n",
      " 14  Roundabout         263131 non-null  bool   \n",
      " 15  Station            263131 non-null  bool   \n",
      " 16  Stop               263131 non-null  bool   \n",
      " 17  Traffic_Calming    263131 non-null  bool   \n",
      " 18  Traffic_Signal     263131 non-null  bool   \n",
      " 19  Turning_Loop       263131 non-null  bool   \n",
      " 20  Target             263131 non-null  int64  \n",
      " 21  Start_Month        263131 non-null  int64  \n",
      " 22  Start_Hour         263131 non-null  int64  \n",
      " 23  Start_Day          263131 non-null  int64  \n",
      "dtypes: bool(13), float64(7), int64(4)\n",
      "memory usage: 27.4 MB\n"
     ]
    }
   ],
   "source": [
    "data.dropna(axis=0, inplace=True) # drop rows with null\n",
    "\n",
    "# Extract n-th week, day of week, and hour from 'Start_Time' column\n",
    "print(data.shape)\n",
    "data.dropna(subset=['Start_Time'], inplace=True) # drop rows that have null start_time\n",
    "data['Start_Time'] = pd.to_datetime(data['Start_Time'])\n",
    "print(data.shape)\n",
    "\n",
    "data['Start_Month'] = data['Start_Time'].dt.month\n",
    "data['Start_Hour'] = data['Start_Time'].dt.hour # extract hours from weather_timestamp \n",
    "data['Start_Day'] = data['Start_Time'].dt.dayofweek # extract day of week\n",
    "# data['Start_Num_week'] = data['Start_Time'].dt.isocalendar().week # extract n-th week of the year from to reflect seasonal impacts \n",
    "\n",
    "data.drop('Start_Time', axis=1, inplace=True) \n",
    "\n",
    "data.head()\n",
    "data.info()"
   ]
  },
  {
   "cell_type": "code",
   "execution_count": 35,
   "id": "4aafefc4-3b46-4191-8948-75732e77347b",
   "metadata": {},
   "outputs": [
    {
     "name": "stdout",
     "output_type": "stream",
     "text": [
      "Number of columns of each data type: \n",
      " bool       13\n",
      "float64     7\n",
      "int64       3\n",
      "object      1\n",
      "dtype: int64\n",
      "\n",
      "\n",
      "Columns with null values: \n",
      " Series([], dtype: int64)\n"
     ]
    }
   ],
   "source": [
    "# data['Start_Hour'] = data['Start_Hour'].astype(object)\n",
    "data['Start_Day'] = data['Start_Day'].astype(object)\n",
    "# data['Start_Num_week'] = data['Start_Num_week'].astype(object)\n",
    "\n",
    "print('Number of columns of each data type: \\n', data.dtypes.value_counts())\n",
    "print('\\n')\n",
    "\n",
    "isnull_series = data.isnull().sum()[data.isnull().sum() > 0]\n",
    "print('Columns with null values: \\n', isnull_series.sort_values(ascending=False))"
   ]
  },
  {
   "cell_type": "code",
   "execution_count": 36,
   "id": "9b84fa5f-915b-41d3-bbaa-bafbc88752f7",
   "metadata": {},
   "outputs": [
    {
     "name": "stdout",
     "output_type": "stream",
     "text": [
      "(263131,)\n",
      "(263131, 23)\n",
      "(263131, 29)\n"
     ]
    }
   ],
   "source": [
    "y_target = data['Target'] # target classification label\n",
    "X_features = data.drop('Target', axis=1, inplace=False)\n",
    "print(y_target.shape)\n",
    "print(X_features.shape)\n",
    "\n",
    "X_features_ohe = pd.get_dummies(X_features)\n",
    "print(X_features_ohe.shape)"
   ]
  },
  {
   "cell_type": "code",
   "execution_count": 37,
   "id": "f60e998c-7c3c-49aa-a8c8-0f03ce52f501",
   "metadata": {},
   "outputs": [],
   "source": [
    "# Helper function for evaluation\n",
    "def get_clf_eval(y_test, pred=None, pred_proba=None):\n",
    "    confusion = confusion_matrix(y_test, pred)\n",
    "    accuracy = accuracy_score(y_test, pred)\n",
    "    precision = precision_score(y_test, pred)\n",
    "    recall = recall_score(y_test, pred)\n",
    "    f1 = f1_score(y_test, pred)\n",
    "    # add ROC-AUC score\n",
    "    roc_auc = roc_auc_score(y_test, pred_proba)\n",
    "    print('Confusion Matrix: \\n', confusion)\n",
    "    print('Accuracy: {0:.4f}, Precision: {1:.4f}, Recall: {2:.4f},\\\n",
    "            F1: {3:.4f}, AUC: {4:.4f}'.format(accuracy, precision, recall, f1, roc_auc))\n",
    "    "
   ]
  },
  {
   "cell_type": "code",
   "execution_count": 38,
   "id": "7d43f498-c39d-49bf-8a3e-c4d2cbf2767e",
   "metadata": {},
   "outputs": [
    {
     "name": "stdout",
     "output_type": "stream",
     "text": [
      "(184191, 29)\n",
      "(78940, 29)\n",
      "(184191,)\n",
      "(78940,)\n"
     ]
    }
   ],
   "source": [
    "# train and test set split\n",
    "X_train, X_test, y_train, y_test = train_test_split(X_features_ohe, y_target, test_size=0.3, random_state=0)\n",
    "print(X_train.shape)\n",
    "print(X_test.shape)\n",
    "# y_train = y_train.to_numpy()\n",
    "# y_test = y_test.to_numpy()\n",
    "print(y_train.shape)\n",
    "print(y_test.shape)"
   ]
  },
  {
   "cell_type": "code",
   "execution_count": 39,
   "id": "5550078a-d096-4a2a-b2ec-f4b865d32285",
   "metadata": {},
   "outputs": [
    {
     "name": "stdout",
     "output_type": "stream",
     "text": [
      "0    144339\n",
      "1     39852\n",
      "Name: Target, dtype: int64\n",
      "0    61749\n",
      "1    17191\n",
      "Name: Target, dtype: int64\n"
     ]
    }
   ],
   "source": [
    "print(y_train.value_counts())\n",
    "print(y_test.value_counts())"
   ]
  },
  {
   "cell_type": "code",
   "execution_count": 40,
   "id": "c5233d7b-7750-4ae4-9c62-dc5f8c85297e",
   "metadata": {},
   "outputs": [
    {
     "name": "stdout",
     "output_type": "stream",
     "text": [
      "Best parameters from gridsearch: {'C': 0.01, 'penalty': 'none'}\n",
      "CV score=0.879\n"
     ]
    }
   ],
   "source": [
    "params = {'C':[0.01, 0.1, 1.0, 10, 100], 'penalty':['l2','none']}\n",
    "\n",
    "gridsearch = GridSearchCV(estimator=LogisticRegression(), param_grid=params, n_jobs=-1, cv=3, scoring='f1_micro')\n",
    "\n",
    "# now perform full fit on whole pipeline\n",
    "gridsearch.fit(X_features_ohe, y_target)\n",
    "print(\"Best parameters from gridsearch: {}\".format(gridsearch.best_params_))\n",
    "print(\"CV score=%0.3f\" % gridsearch.best_score_)\n",
    "cv_results = gridsearch.cv_results_"
   ]
  },
  {
   "cell_type": "code",
   "execution_count": 43,
   "id": "d44634a9-9ccc-4135-b73e-75b580b6f5cd",
   "metadata": {},
   "outputs": [],
   "source": [
    "# Logistic Regression Model\n",
    "lr_clf = LogisticRegression(C=0.01, penalty='l2')\n",
    "lr_clf.fit(X_train, y_train)\n",
    "lr_pred = lr_clf.predict(X_test)\n",
    "lr_pred_proba = lr_clf.predict_proba(X_test)[:,1]"
   ]
  },
  {
   "cell_type": "code",
   "execution_count": 44,
   "id": "4096f623-ec56-410b-a492-d727cdc9f022",
   "metadata": {},
   "outputs": [
    {
     "name": "stdout",
     "output_type": "stream",
     "text": [
      "Confusion Matrix: \n",
      " [[60147  1602]\n",
      " [ 8279  8912]]\n",
      "Accuracy: 0.8748, Precision: 0.8476, Recall: 0.5184,            F1: 0.6433, AUC: 0.9024\n"
     ]
    }
   ],
   "source": [
    "# Evaluation of Logistic Regression\n",
    "get_clf_eval(y_test, lr_pred, lr_pred_proba) "
   ]
  },
  {
   "cell_type": "code",
   "execution_count": 45,
   "id": "5ea3d569-27eb-4570-a64b-32df0ab22921",
   "metadata": {},
   "outputs": [
    {
     "data": {
      "text/html": [
       "<table class=\"simpletable\">\n",
       "<caption>Generalized Linear Model Regression Results</caption>\n",
       "<tr>\n",
       "  <th>Dep. Variable:</th>        <td>Target</td>      <th>  No. Observations:  </th>   <td>184191</td>  \n",
       "</tr>\n",
       "<tr>\n",
       "  <th>Model:</th>                  <td>GLM</td>       <th>  Df Residuals:      </th>   <td>184163</td>  \n",
       "</tr>\n",
       "<tr>\n",
       "  <th>Model Family:</th>        <td>Binomial</td>     <th>  Df Model:          </th>   <td>    27</td>  \n",
       "</tr>\n",
       "<tr>\n",
       "  <th>Link Function:</th>         <td>logit</td>      <th>  Scale:             </th>  <td>  1.0000</td> \n",
       "</tr>\n",
       "<tr>\n",
       "  <th>Method:</th>                <td>IRLS</td>       <th>  Log-Likelihood:    </th>  <td> -52327.</td> \n",
       "</tr>\n",
       "<tr>\n",
       "  <th>Date:</th>            <td>Sat, 05 Nov 2022</td> <th>  Deviance:          </th> <td>1.0465e+05</td>\n",
       "</tr>\n",
       "<tr>\n",
       "  <th>Time:</th>                <td>14:02:47</td>     <th>  Pearson chi2:      </th>  <td>3.71e+05</td> \n",
       "</tr>\n",
       "<tr>\n",
       "  <th>No. Iterations:</th>         <td>100</td>       <th>                     </th>      <td> </td>    \n",
       "</tr>\n",
       "<tr>\n",
       "  <th>Covariance Type:</th>     <td>nonrobust</td>    <th>                     </th>      <td> </td>    \n",
       "</tr>\n",
       "</table>\n",
       "<table class=\"simpletable\">\n",
       "<tr>\n",
       "          <td></td>             <th>coef</th>     <th>std err</th>      <th>z</th>      <th>P>|z|</th>  <th>[0.025</th>    <th>0.975]</th>  \n",
       "</tr>\n",
       "<tr>\n",
       "  <th>const</th>             <td>  490.8738</td> <td>   11.724</td> <td>   41.870</td> <td> 0.000</td> <td>  467.896</td> <td>  513.852</td>\n",
       "</tr>\n",
       "<tr>\n",
       "  <th>Start_Lat</th>         <td>   -9.9726</td> <td>    0.150</td> <td>  -66.369</td> <td> 0.000</td> <td>  -10.267</td> <td>   -9.678</td>\n",
       "</tr>\n",
       "<tr>\n",
       "  <th>Start_Lng</th>         <td>   -2.7944</td> <td>    0.105</td> <td>  -26.506</td> <td> 0.000</td> <td>   -3.001</td> <td>   -2.588</td>\n",
       "</tr>\n",
       "<tr>\n",
       "  <th>Temperature(F)</th>    <td>   -0.1228</td> <td>    0.001</td> <td> -104.799</td> <td> 0.000</td> <td>   -0.125</td> <td>   -0.120</td>\n",
       "</tr>\n",
       "<tr>\n",
       "  <th>Humidity(%)</th>       <td>   -0.0520</td> <td>    0.000</td> <td> -108.538</td> <td> 0.000</td> <td>   -0.053</td> <td>   -0.051</td>\n",
       "</tr>\n",
       "<tr>\n",
       "  <th>Pressure(in)</th>      <td>  -18.1570</td> <td>    0.098</td> <td> -185.087</td> <td> 0.000</td> <td>  -18.349</td> <td>  -17.965</td>\n",
       "</tr>\n",
       "<tr>\n",
       "  <th>Wind_Speed(mph)</th>   <td>   -0.1758</td> <td>    0.002</td> <td>  -83.421</td> <td> 0.000</td> <td>   -0.180</td> <td>   -0.172</td>\n",
       "</tr>\n",
       "<tr>\n",
       "  <th>Precipitation(in)</th> <td>    2.8888</td> <td>    0.503</td> <td>    5.739</td> <td> 0.000</td> <td>    1.902</td> <td>    3.875</td>\n",
       "</tr>\n",
       "<tr>\n",
       "  <th>Amenity</th>           <td>    0.0569</td> <td>    0.067</td> <td>    0.847</td> <td> 0.397</td> <td>   -0.075</td> <td>    0.188</td>\n",
       "</tr>\n",
       "<tr>\n",
       "  <th>Bump</th>              <td>    0.3594</td> <td>    0.936</td> <td>    0.384</td> <td> 0.701</td> <td>   -1.476</td> <td>    2.195</td>\n",
       "</tr>\n",
       "<tr>\n",
       "  <th>Crossing</th>          <td>    0.0175</td> <td>    0.039</td> <td>    0.449</td> <td> 0.654</td> <td>   -0.059</td> <td>    0.094</td>\n",
       "</tr>\n",
       "<tr>\n",
       "  <th>Give_Way</th>          <td>   -0.2164</td> <td>    0.720</td> <td>   -0.301</td> <td> 0.764</td> <td>   -1.627</td> <td>    1.195</td>\n",
       "</tr>\n",
       "<tr>\n",
       "  <th>Junction</th>          <td>   -0.1217</td> <td>    0.025</td> <td>   -4.847</td> <td> 0.000</td> <td>   -0.171</td> <td>   -0.072</td>\n",
       "</tr>\n",
       "<tr>\n",
       "  <th>No_Exit</th>           <td>   -0.0790</td> <td>    0.178</td> <td>   -0.445</td> <td> 0.656</td> <td>   -0.427</td> <td>    0.269</td>\n",
       "</tr>\n",
       "<tr>\n",
       "  <th>Railway</th>           <td>   -0.1108</td> <td>    0.061</td> <td>   -1.827</td> <td> 0.068</td> <td>   -0.230</td> <td>    0.008</td>\n",
       "</tr>\n",
       "<tr>\n",
       "  <th>Roundabout</th>        <td>   -0.0425</td> <td>    0.925</td> <td>   -0.046</td> <td> 0.963</td> <td>   -1.856</td> <td>    1.771</td>\n",
       "</tr>\n",
       "<tr>\n",
       "  <th>Station</th>           <td>    0.1479</td> <td>    0.041</td> <td>    3.566</td> <td> 0.000</td> <td>    0.067</td> <td>    0.229</td>\n",
       "</tr>\n",
       "<tr>\n",
       "  <th>Stop</th>              <td>   -0.0399</td> <td>    0.058</td> <td>   -0.693</td> <td> 0.488</td> <td>   -0.153</td> <td>    0.073</td>\n",
       "</tr>\n",
       "<tr>\n",
       "  <th>Traffic_Calming</th>   <td>    0.2893</td> <td>    0.822</td> <td>    0.352</td> <td> 0.725</td> <td>   -1.322</td> <td>    1.901</td>\n",
       "</tr>\n",
       "<tr>\n",
       "  <th>Traffic_Signal</th>    <td>    0.0036</td> <td>    0.026</td> <td>    0.137</td> <td> 0.891</td> <td>   -0.048</td> <td>    0.055</td>\n",
       "</tr>\n",
       "<tr>\n",
       "  <th>Turning_Loop</th>      <td>-3.107e-13</td> <td> 7.74e-15</td> <td>  -40.128</td> <td> 0.000</td> <td>-3.26e-13</td> <td>-2.95e-13</td>\n",
       "</tr>\n",
       "<tr>\n",
       "  <th>Start_Month</th>       <td>    0.0953</td> <td>    0.002</td> <td>   39.302</td> <td> 0.000</td> <td>    0.091</td> <td>    0.100</td>\n",
       "</tr>\n",
       "<tr>\n",
       "  <th>Start_Hour</th>        <td>    0.0548</td> <td>    0.001</td> <td>   40.727</td> <td> 0.000</td> <td>    0.052</td> <td>    0.057</td>\n",
       "</tr>\n",
       "<tr>\n",
       "  <th>Start_Day_0</th>       <td>   69.9687</td> <td>    1.675</td> <td>   41.781</td> <td> 0.000</td> <td>   66.686</td> <td>   73.251</td>\n",
       "</tr>\n",
       "<tr>\n",
       "  <th>Start_Day_1</th>       <td>   70.0750</td> <td>    1.675</td> <td>   41.844</td> <td> 0.000</td> <td>   66.793</td> <td>   73.357</td>\n",
       "</tr>\n",
       "<tr>\n",
       "  <th>Start_Day_2</th>       <td>   70.3617</td> <td>    1.675</td> <td>   41.998</td> <td> 0.000</td> <td>   67.078</td> <td>   73.645</td>\n",
       "</tr>\n",
       "<tr>\n",
       "  <th>Start_Day_3</th>       <td>   70.2459</td> <td>    1.675</td> <td>   41.933</td> <td> 0.000</td> <td>   66.963</td> <td>   73.529</td>\n",
       "</tr>\n",
       "<tr>\n",
       "  <th>Start_Day_4</th>       <td>   70.4193</td> <td>    1.675</td> <td>   42.039</td> <td> 0.000</td> <td>   67.136</td> <td>   73.702</td>\n",
       "</tr>\n",
       "<tr>\n",
       "  <th>Start_Day_5</th>       <td>   69.9198</td> <td>    1.675</td> <td>   41.750</td> <td> 0.000</td> <td>   66.637</td> <td>   73.202</td>\n",
       "</tr>\n",
       "<tr>\n",
       "  <th>Start_Day_6</th>       <td>   69.8835</td> <td>    1.675</td> <td>   41.729</td> <td> 0.000</td> <td>   66.601</td> <td>   73.166</td>\n",
       "</tr>\n",
       "</table>"
      ],
      "text/plain": [
       "<class 'statsmodels.iolib.summary.Summary'>\n",
       "\"\"\"\n",
       "                 Generalized Linear Model Regression Results                  \n",
       "==============================================================================\n",
       "Dep. Variable:                 Target   No. Observations:               184191\n",
       "Model:                            GLM   Df Residuals:                   184163\n",
       "Model Family:                Binomial   Df Model:                           27\n",
       "Link Function:                  logit   Scale:                          1.0000\n",
       "Method:                          IRLS   Log-Likelihood:                -52327.\n",
       "Date:                Sat, 05 Nov 2022   Deviance:                   1.0465e+05\n",
       "Time:                        14:02:47   Pearson chi2:                 3.71e+05\n",
       "No. Iterations:                   100                                         \n",
       "Covariance Type:            nonrobust                                         \n",
       "=====================================================================================\n",
       "                        coef    std err          z      P>|z|      [0.025      0.975]\n",
       "-------------------------------------------------------------------------------------\n",
       "const               490.8738     11.724     41.870      0.000     467.896     513.852\n",
       "Start_Lat            -9.9726      0.150    -66.369      0.000     -10.267      -9.678\n",
       "Start_Lng            -2.7944      0.105    -26.506      0.000      -3.001      -2.588\n",
       "Temperature(F)       -0.1228      0.001   -104.799      0.000      -0.125      -0.120\n",
       "Humidity(%)          -0.0520      0.000   -108.538      0.000      -0.053      -0.051\n",
       "Pressure(in)        -18.1570      0.098   -185.087      0.000     -18.349     -17.965\n",
       "Wind_Speed(mph)      -0.1758      0.002    -83.421      0.000      -0.180      -0.172\n",
       "Precipitation(in)     2.8888      0.503      5.739      0.000       1.902       3.875\n",
       "Amenity               0.0569      0.067      0.847      0.397      -0.075       0.188\n",
       "Bump                  0.3594      0.936      0.384      0.701      -1.476       2.195\n",
       "Crossing              0.0175      0.039      0.449      0.654      -0.059       0.094\n",
       "Give_Way             -0.2164      0.720     -0.301      0.764      -1.627       1.195\n",
       "Junction             -0.1217      0.025     -4.847      0.000      -0.171      -0.072\n",
       "No_Exit              -0.0790      0.178     -0.445      0.656      -0.427       0.269\n",
       "Railway              -0.1108      0.061     -1.827      0.068      -0.230       0.008\n",
       "Roundabout           -0.0425      0.925     -0.046      0.963      -1.856       1.771\n",
       "Station               0.1479      0.041      3.566      0.000       0.067       0.229\n",
       "Stop                 -0.0399      0.058     -0.693      0.488      -0.153       0.073\n",
       "Traffic_Calming       0.2893      0.822      0.352      0.725      -1.322       1.901\n",
       "Traffic_Signal        0.0036      0.026      0.137      0.891      -0.048       0.055\n",
       "Turning_Loop      -3.107e-13   7.74e-15    -40.128      0.000   -3.26e-13   -2.95e-13\n",
       "Start_Month           0.0953      0.002     39.302      0.000       0.091       0.100\n",
       "Start_Hour            0.0548      0.001     40.727      0.000       0.052       0.057\n",
       "Start_Day_0          69.9687      1.675     41.781      0.000      66.686      73.251\n",
       "Start_Day_1          70.0750      1.675     41.844      0.000      66.793      73.357\n",
       "Start_Day_2          70.3617      1.675     41.998      0.000      67.078      73.645\n",
       "Start_Day_3          70.2459      1.675     41.933      0.000      66.963      73.529\n",
       "Start_Day_4          70.4193      1.675     42.039      0.000      67.136      73.702\n",
       "Start_Day_5          69.9198      1.675     41.750      0.000      66.637      73.202\n",
       "Start_Day_6          69.8835      1.675     41.729      0.000      66.601      73.166\n",
       "=====================================================================================\n",
       "\"\"\""
      ]
     },
     "execution_count": 45,
     "metadata": {},
     "output_type": "execute_result"
    }
   ],
   "source": [
    "X2 = sm.add_constant(X_train.astype(float))\n",
    "logit_model=sm.GLM(y_train, X2, family=sm.families.Binomial())\n",
    "result=logit_model.fit()\n",
    "result.summary()\n"
   ]
  },
  {
   "cell_type": "code",
   "execution_count": 46,
   "id": "750870b9-4436-48ac-a66c-71c7d81ba705",
   "metadata": {},
   "outputs": [],
   "source": [
    "selected_features = ['Start_Lat', \n",
    "                     'Start_Lng',\n",
    "                     'Temperature(F)', \n",
    "                     'Humidity(%)',\n",
    "                     'Pressure(in)', \n",
    "                     'Wind_Speed(mph)',\n",
    "                     'Precipitation(in)',\n",
    "                     'Junction', \n",
    "                     'Railway', \n",
    "                     'Station', \n",
    "                     'Turning_Loop', \n",
    "                     'Start_Month', \n",
    "                     'Start_Hour', \n",
    "                     'Start_Day_0', \n",
    "                     'Start_Day_1', \n",
    "                     'Start_Day_2',\n",
    "                     'Start_Day_3', \n",
    "                     'Start_Day_4', \n",
    "                     'Start_Day_5', \n",
    "                     'Start_Day_6']"
   ]
  },
  {
   "cell_type": "code",
   "execution_count": 47,
   "id": "245c20f2-1028-4011-864f-1589f6e3b430",
   "metadata": {},
   "outputs": [
    {
     "name": "stdout",
     "output_type": "stream",
     "text": [
      "(263131, 20)\n"
     ]
    }
   ],
   "source": [
    "y_target = data['Target'] # target classification label\n",
    "X_features_ohe = X_features_ohe[selected_features]\n",
    "\n",
    "print(X_features_ohe.shape)"
   ]
  },
  {
   "cell_type": "code",
   "execution_count": 48,
   "id": "3795fc8e-0129-4279-baed-b091c3ceb46e",
   "metadata": {},
   "outputs": [
    {
     "name": "stdout",
     "output_type": "stream",
     "text": [
      "(184191, 20)\n",
      "(78940, 20)\n",
      "(184191,)\n",
      "(78940,)\n"
     ]
    }
   ],
   "source": [
    "# train and test set split\n",
    "X_train, X_test, y_train, y_test = train_test_split(X_features_ohe, y_target, test_size=0.3, random_state=0)\n",
    "print(X_train.shape)\n",
    "print(X_test.shape)\n",
    "# y_train = y_train.to_numpy()\n",
    "# y_test = y_test.to_numpy()\n",
    "print(y_train.shape)\n",
    "print(y_test.shape)"
   ]
  },
  {
   "cell_type": "code",
   "execution_count": 49,
   "id": "c209f5eb-87b5-43e1-b9ad-089d5d431c66",
   "metadata": {},
   "outputs": [
    {
     "name": "stdout",
     "output_type": "stream",
     "text": [
      "Best parameters from gridsearch: {'C': 10, 'penalty': 'l2'}\n",
      "CV score=0.879\n"
     ]
    }
   ],
   "source": [
    "# Logisitc Regression model hyperparameter tuning\n",
    "params = {'C':[0.01, 0.1, 1.0, 10, 100], 'penalty':['l2','none']}\n",
    "\n",
    "gridsearch = GridSearchCV(estimator=LogisticRegression(), param_grid=params, n_jobs=-1, cv=3, scoring='f1_micro')\n",
    "\n",
    "# now perform full fit on whole pipeline\n",
    "gridsearch.fit(X_features_ohe, y_target)\n",
    "print(\"Best parameters from gridsearch: {}\".format(gridsearch.best_params_))\n",
    "print(\"CV score=%0.3f\" % gridsearch.best_score_)\n",
    "cv_results = gridsearch.cv_results_"
   ]
  },
  {
   "cell_type": "code",
   "execution_count": 50,
   "id": "5036c265-f1f1-4da8-8cb5-d23184306086",
   "metadata": {},
   "outputs": [],
   "source": [
    "# Logistic Regression Model\n",
    "lr_clf = LogisticRegression(C=10, penalty='l2')\n",
    "lr_clf.fit(X_train, y_train)\n",
    "lr_pred = lr_clf.predict(X_test)\n",
    "lr_pred_proba = lr_clf.predict_proba(X_test)[:,1]"
   ]
  },
  {
   "cell_type": "code",
   "execution_count": 51,
   "id": "688d7006-d723-4c91-8acb-894a6f292f29",
   "metadata": {},
   "outputs": [
    {
     "name": "stdout",
     "output_type": "stream",
     "text": [
      "Confusion Matrix: \n",
      " [[59252  2497]\n",
      " [ 6702 10489]]\n",
      "Accuracy: 0.8835, Precision: 0.8077, Recall: 0.6101,            F1: 0.6952, AUC: 0.9014\n"
     ]
    }
   ],
   "source": [
    "# Evaluation of Logistic Regression\n",
    "get_clf_eval(y_test, lr_pred, lr_pred_proba) "
   ]
  },
  {
   "cell_type": "code",
   "execution_count": 53,
   "id": "fced0461-9b40-435a-b8a6-68182d5ddd29",
   "metadata": {},
   "outputs": [
    {
     "name": "stdout",
     "output_type": "stream",
     "text": [
      "Best parameters from gridsearch: {'max_depth': 40, 'min_samples_split': 2}\n",
      "CV score=0.979\n"
     ]
    }
   ],
   "source": [
    "# Random Forest model hyperparameter tuning\n",
    "params = {'max_depth': [20, 40],\n",
    "          'min_samples_split': [2, 5, 10]}\n",
    "\n",
    "gridsearch = GridSearchCV(estimator=RandomForestClassifier(n_estimators=100), param_grid=params, n_jobs=-1, cv=3, scoring='f1_micro')\n",
    "\n",
    "# now perform full fit on whole pipeline\n",
    "gridsearch.fit(X_features_ohe, y_target)\n",
    "print(\"Best parameters from gridsearch: {}\".format(gridsearch.best_params_))\n",
    "print(\"CV score=%0.3f\" % gridsearch.best_score_)\n",
    "cv_results = gridsearch.cv_results_"
   ]
  },
  {
   "cell_type": "code",
   "execution_count": 54,
   "id": "e10ab9b3-5e5f-4d3c-932d-69d10dfcfad5",
   "metadata": {},
   "outputs": [
    {
     "name": "stdout",
     "output_type": "stream",
     "text": [
      "Confusion Matrix: \n",
      " [[61645   104]\n",
      " [  537 16654]]\n",
      "Accuracy: 0.9919, Precision: 0.9938, Recall: 0.9688,            F1: 0.9811, AUC: 0.9996\n"
     ]
    }
   ],
   "source": [
    "# Random Forest Model\n",
    "rf_clf = RandomForestClassifier(n_estimators=100, max_depth=40, min_samples_split=2)\n",
    "rf_clf.fit(X_train, y_train)\n",
    "rf_pred = rf_clf.predict(X_test)\n",
    "rf_pred_proba = rf_clf.predict_proba(X_test)[:,1]\n",
    "\n",
    "# Evaluation of Random Forest\n",
    "get_clf_eval(y_test, rf_pred, rf_pred_proba) "
   ]
  },
  {
   "cell_type": "code",
   "execution_count": 57,
   "id": "f851b740-c33f-4c23-a017-be2c5aa459ec",
   "metadata": {},
   "outputs": [
    {
     "name": "stdout",
     "output_type": "stream",
     "text": [
      "Best parameters from gridsearch: {'colsample_bytree': 0.75, 'max_depth': 7, 'min_child_weight': 1}\n",
      "CV score=0.998\n"
     ]
    }
   ],
   "source": [
    "# XGBOOST hyperparameter tuning\n",
    "params = {'max_depth': [5, 7],\n",
    "          'min_child_weight': [1, 3],\n",
    "          'colsample_bytree': [0.5, 0.75]}\n",
    "\n",
    "gridsearch = GridSearchCV(estimator=XGBClassifier(n_estimators=100), param_grid=params, n_jobs=-1, cv=3, scoring='f1_micro')\n",
    "\n",
    "# now perform full fit on whole pipeline\n",
    "gridsearch.fit(X_features_ohe, y_target)\n",
    "print(\"Best parameters from gridsearch: {}\".format(gridsearch.best_params_))\n",
    "print(\"CV score=%0.3f\" % gridsearch.best_score_)\n",
    "cv_results = gridsearch.cv_results_"
   ]
  },
  {
   "cell_type": "code",
   "execution_count": 58,
   "id": "ceaa8677-7a79-4faa-a4ff-d841c8c7d0f7",
   "metadata": {},
   "outputs": [
    {
     "name": "stdout",
     "output_type": "stream",
     "text": [
      "Confusion Matrix: \n",
      " [[61740     9]\n",
      " [   50 17141]]\n",
      "Accuracy: 0.9993, Precision: 0.9995, Recall: 0.9971,            F1: 0.9983, AUC: 1.0000\n"
     ]
    }
   ],
   "source": [
    "# XGBOOST model\n",
    "xgb_clf = XGBClassifier(n_estimators=100, max_depth=7, min_child_weight=1, colsample_bytree=0.75)\n",
    "xgb_clf.fit(X_train, y_train)\n",
    "xgb_pred = xgb_clf.predict(X_test)\n",
    "xgb_pred_proba = xgb_clf.predict_proba(X_test)[:,1]\n",
    "\n",
    "# Evaluation of XGBOOST model\n",
    "get_clf_eval(y_test, xgb_pred, xgb_pred_proba) "
   ]
  },
  {
   "cell_type": "code",
   "execution_count": 61,
   "id": "09d91068-1820-4409-8352-a3fe045cc166",
   "metadata": {},
   "outputs": [
    {
     "data": {
      "image/png": "[encoded data removed]",
      "text/plain": [
       "<Figure size 720x576 with 1 Axes>"
      ]
     },
     "metadata": {
      "needs_background": "light"
     },
     "output_type": "display_data"
    }
   ],
   "source": [
    "from xgboost import plot_importance\n",
    "\n",
    "fig,ax = plt.subplots(1,1,figsize=(10,8))\n",
    "plot_importance(xgb_clf, ax=ax, max_num_features=20, height=0.4)\n",
    "plt.show()"
   ]
  },
  {
   "cell_type": "code",
   "execution_count": null,
   "id": "d4781060-56b6-4ece-9184-36ee7159a4c2",
   "metadata": {},
   "outputs": [],
   "source": []
  }
 ],
 "metadata": {
  "kernelspec": {
   "display_name": "Python 3",
   "language": "python",
   "name": "python3"
  },
  "language_info": {
   "codemirror_mode": {
    "name": "ipython",
    "version": 3
   },
   "file_extension": ".py",
   "mimetype": "text/x-python",
   "name": "python",
   "nbconvert_exporter": "python",
   "pygments_lexer": "ipython3",
   "version": "3.8.8"
  }
 },
 "nbformat": 4,
 "nbformat_minor": 5
}
