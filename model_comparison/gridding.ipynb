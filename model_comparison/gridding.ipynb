{
 "cells": [
  {
   "cell_type": "code",
   "execution_count": null,
   "id": "684b5375-1ae7-425a-ae61-ef41862265dc",
   "metadata": {},
   "outputs": [],
   "source": [
    "# Truncate 'Start_Lat' and 'Start_Lng' to two decimal points \n",
    "\n",
    "import math \n",
    "\n",
    "def truncate(f, n):\n",
    "    return math.floor(f * 10 ** n) / 10 ** n\n",
    "\n",
    "data['Start_Lat'] = data['Start_Lat'].apply(lambda x: truncate(x, 2))\n",
    "data['Start_Lng'] = data['Start_Lng'].apply(lambda x: truncate(x, 2))\n",
    "\n",
    "data['Start_Lat'] = data['Start_Lat'].astype(object)\n",
    "data['Start_Lng'] = data['Start_Lng'].astype(object)"
   ]
  },
  {
   "cell_type": "code",
   "execution_count": null,
   "id": "c292c78a-be28-413f-af0f-c4e6b7ed052c",
   "metadata": {},
   "outputs": [],
   "source": [
    "print('Number of columns of each data type: \\n', data.dtypes.value_counts())\n",
    "print('\\n')\n",
    "\n",
    "data.info()"
   ]
  },
  {
   "cell_type": "code",
   "execution_count": null,
   "id": "bd4adbb2-c2cf-4f96-a84d-e8e539bd82bf",
   "metadata": {},
   "outputs": [],
   "source": [
    "y_target = data['Target'] # target classification label\n",
    "X_features = data.drop('Target', axis=1, inplace=False)\n",
    "print(y_target.shape)\n",
    "print(X_features.shape)\n",
    "\n",
    "X_features_ohe = pd.get_dummies(X_features)\n",
    "print(X_features_ohe.shape)"
   ]
  },
  {
   "cell_type": "code",
   "execution_count": null,
   "id": "4529bc21-31c8-485f-8db8-999d07e014f2",
   "metadata": {},
   "outputs": [],
   "source": [
    "columns = X_features_ohe.columns.tolist()\n",
    "# print(columns)"
   ]
  },
  {
   "cell_type": "code",
   "execution_count": null,
   "id": "426e2974-4787-4eb3-8c88-2e23b4c5bf90",
   "metadata": {},
   "outputs": [],
   "source": [
    "not_in_lat = []\n",
    "\n",
    "for i in np.arange(33.90, 34.10, 0.01):\n",
    "    col = 'Start_Lat' + '_' + str(round(i,2))\n",
    "    if col not in columns:\n",
    "        not_in_lat.append(col)\n",
    "        \n",
    "print(not_in_lat)\n",
    "\n",
    "not_in_lng = []\n",
    "\n",
    "for i in np.arange(-118.40, -118.10, 0.01):\n",
    "    col = 'Start_Lng' + '_' + str(round(i,1))\n",
    "    if col not in columns:\n",
    "        not_in_lng.append(col)\n",
    "        \n",
    "print(not_in_lng)\n"
   ]
  },
  {
   "cell_type": "code",
   "execution_count": null,
   "id": "e329c8d6-e250-4a48-9a24-d30c73a82fb4",
   "metadata": {},
   "outputs": [],
   "source": [
    "for i in not_in_lng:\n",
    "    X_features_ohe[i] = 0"
   ]
  },
  {
   "cell_type": "code",
   "execution_count": null,
   "id": "8fefaf8f-4dd3-488f-96a3-f4b6cbd7018b",
   "metadata": {},
   "outputs": [],
   "source": [
    "data['Hour'] = data['Hour'].astype(object)\n",
    "data['Day'] = data['Day'].astype(object)\n",
    "data['Num_week'] = data['Num_week'].astype(object)\n",
    "\n",
    "print('Number of columns of each data type: \\n', data.dtypes.value_counts())\n",
    "print('\\n')\n",
    "\n",
    "isnull_series = data.isnull().sum()[data.isnull().sum() > 0]\n",
    "print('Columns with null values: \\n', isnull_series.sort_values(ascending=False))"
   ]
  },
  {
   "cell_type": "code",
   "execution_count": null,
   "id": "6f83f9b0-06b2-4d61-ae03-056e875f6906",
   "metadata": {},
   "outputs": [],
   "source": [
    "y_target = data['Target'] # target classification label\n",
    "X_features = data.drop('Target', axis=1, inplace=False) # input data\n",
    "print(\"y_target shape: \", y_target.shape)\n",
    "print(\"X_features shape: \", X_features.shape)\n",
    "\n",
    "X_features_ohe = pd.get_dummies(X_features) # X_features after one-hot-encoding\n",
    "print(\"X_features_ohe shape: \", X_features_ohe.shape)"
   ]
  },
  {
   "cell_type": "code",
   "execution_count": null,
   "id": "9f172001-f4a9-44c5-8050-1d0bd15ebbf8",
   "metadata": {},
   "outputs": [],
   "source": []
  },
  {
   "cell_type": "code",
   "execution_count": null,
   "id": "65d2a130-4244-4273-9c4e-2f673ec27bc0",
   "metadata": {},
   "outputs": [],
   "source": [
    "# Before conversion\n",
    "display(data[data['Target'] == 0]['Pressure(in)'].head())\n",
    "\n",
    "# Conversion process\n",
    "zero_data = data[data['Target'] == 0]\n",
    "one_data = data[data['Target'] == 1]\n",
    "\n",
    "zero_data['Pressure(in)'] = zero_data['Pressure(in)'].apply(lambda x: x/33.863886666667)\n",
    "\n",
    "data = pd.concat([one_data, zero_data], axis=0)\n",
    "\n",
    "# After conversion\n",
    "display(data[data['Target'] == 0]['Pressure(in)'].head())"
   ]
  },
  {
   "cell_type": "code",
   "execution_count": null,
   "id": "ed7a976a-905b-4763-8cae-3a53cc3723b4",
   "metadata": {},
   "outputs": [],
   "source": []
  }
 ],
 "metadata": {
  "kernelspec": {
   "display_name": "Python 3",
   "language": "python",
   "name": "python3"
  },
  "language_info": {
   "codemirror_mode": {
    "name": "ipython",
    "version": 3
   },
   "file_extension": ".py",
   "mimetype": "text/x-python",
   "name": "python",
   "nbconvert_exporter": "python",
   "pygments_lexer": "ipython3",
   "version": "3.8.8"
  }
 },
 "nbformat": 4,
 "nbformat_minor": 5
}
